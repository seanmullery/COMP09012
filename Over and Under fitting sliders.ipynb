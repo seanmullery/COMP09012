{
 "cells": [
  {
   "cell_type": "code",
   "execution_count": 2,
   "id": "b7386467",
   "metadata": {},
   "outputs": [
    {
     "data": {
      "application/vnd.jupyter.widget-view+json": {
       "model_id": "4c4f644f39d4440389d88309603ec596",
       "version_major": 2,
       "version_minor": 0
      },
      "text/plain": [
       "interactive(children=(IntSlider(value=4, description='M', max=10, min=1), Output()), _dom_classes=('widget-int…"
      ]
     },
     "execution_count": 2,
     "metadata": {},
     "output_type": "execute_result"
    }
   ],
   "source": [
    "import math\n",
    "import numpy as np\n",
    "import matplotlib.pyplot as plt\n",
    "from sklearn.preprocessing import PolynomialFeatures\n",
    "from sklearn.linear_model import LinearRegression\n",
    "import ipywidgets as widgets\n",
    "from IPython.display import display\n",
    "\n",
    "N = 10\n",
    "x_len = 1\n",
    "x = np.linspace(0, x_len, N)\n",
    "\n",
    "signal = np.sin(2 * math.pi * x)\n",
    "# Set a seed for reproducibility\n",
    "np.random.seed(0)\n",
    "noise = np.random.normal(0, 0.3, N)\n",
    "\n",
    "data = signal + noise\n",
    "data = data.reshape(-1, 1)\n",
    "x = x.reshape(-1, 1)\n",
    "\n",
    "def plot_poly_regression(M):\n",
    "    poly_features = PolynomialFeatures(degree=M, include_bias=False)\n",
    "    x_poly = poly_features.fit_transform(x)\n",
    "    model = LinearRegression()\n",
    "    model.fit(x_poly, data)  # Fit the model\n",
    "    plt.figure(figsize=(7, 5))\n",
    "    plt.scatter(x, data, label='Noisy Training Data')\n",
    "    # Visualisation only\n",
    "    x_plot = np.linspace(0, x_len, 1000).reshape(-1, 1)\n",
    "    x_plot_poly = poly_features.fit_transform(x_plot)\n",
    "    plt.plot(x_plot, model.predict(x_plot_poly), label='Polynomial Regression Fit')\n",
    "    plt.plot(x_plot, np.sin(2 * math.pi * x_plot), label='True function',linestyle='--')\n",
    "    plt.xlabel('x-axis')\n",
    "    plt.ylabel('y-axis')\n",
    "    plt.legend()\n",
    "    plt.savefig(f'FittingPoly{M}.jpg', bbox_inches='tight', pad_inches=0.1)\n",
    "    plt.show()\n",
    "   \n",
    "    \n",
    "    \n",
    "    print(\"Model coefficients:\", model.coef_)\n",
    "    print(f'Average Weight size: {np.mean(np.abs(model.coef_))}')\n",
    "\n",
    "widgets.interactive(plot_poly_regression, M=widgets.IntSlider(min=1, max=10, step=1, value=4))\n"
   ]
  },
  {
   "cell_type": "code",
   "execution_count": 3,
   "id": "6444652c",
   "metadata": {},
   "outputs": [
    {
     "data": {
      "application/vnd.jupyter.widget-view+json": {
       "model_id": "a2b35c78c9b64fd6aaec8958d9e1cf61",
       "version_major": 2,
       "version_minor": 0
      },
      "text/plain": [
       "interactive(children=(IntSlider(value=4, description='M', max=10, min=1), FloatSlider(value=1.0, description='…"
      ]
     },
     "execution_count": 3,
     "metadata": {},
     "output_type": "execute_result"
    }
   ],
   "source": [
    "import math\n",
    "import numpy as np\n",
    "import matplotlib.pyplot as plt\n",
    "from sklearn.preprocessing import PolynomialFeatures\n",
    "from sklearn.linear_model import LinearRegression\n",
    "import ipywidgets as widgets\n",
    "from IPython.display import display\n",
    "\n",
    "N = 10\n",
    "x_len = 1\n",
    "x = np.linspace(0, x_len, N)\n",
    "\n",
    "signal = np.sin(2 * math.pi * x)\n",
    "# Set a seed for reproducibility\n",
    "np.random.seed(0)\n",
    "noise = np.random.normal(0, 0.3, N)\n",
    "\n",
    "data = signal + noise\n",
    "data = data.reshape(-1, 1)\n",
    "x = x.reshape(-1, 1)\n",
    "\n",
    "def plot_poly_regression(M, W_mult):\n",
    "    poly_features = PolynomialFeatures(degree=M, include_bias=False)\n",
    "    x_poly = poly_features.fit_transform(x)\n",
    "    model = LinearRegression()\n",
    "    model.fit(x_poly, data)  # Fit the model\n",
    "    \n",
    "    model.coef_ = model.coef_*W_mult\n",
    "\n",
    "    plt.scatter(x, data, label='Noisy Data')\n",
    "    # Visualisation only\n",
    "    x_plot = np.linspace(0, x_len, 1000).reshape(-1, 1)\n",
    "    x_plot_poly = poly_features.fit_transform(x_plot)\n",
    "    plt.plot(x_plot, model.predict(x_plot_poly), label='Polynomial Regression Fit')\n",
    "    plt.plot(x_plot, np.sin(2 * math.pi * x_plot), label='True function',linestyle='--')\n",
    "    plt.legend()\n",
    "    plt.show()\n",
    "    \n",
    "    print(\"Model coefficients:\", model.coef_)\n",
    "    print(f'Average Weight size: {np.mean(np.abs(model.coef_))}')\n",
    "\n",
    "widgets.interactive(plot_poly_regression, M=widgets.IntSlider(min=1, max=10, step=1, value=4), \n",
    "                    W_mult=widgets.FloatSlider(min=0.1, max=1.0, step=0.1, value=1))"
   ]
  },
  {
   "cell_type": "code",
   "execution_count": 11,
   "id": "b503d91a",
   "metadata": {},
   "outputs": [
    {
     "name": "stdout",
     "output_type": "stream",
     "text": [
      "\n"
     ]
    },
    {
     "data": {
      "image/png": "[encoded data removed]",
      "text/plain": [
       "<Figure size 640x480 with 1 Axes>"
      ]
     },
     "metadata": {},
     "output_type": "display_data"
    }
   ],
   "source": [
    "import matplotlib.pyplot as plt\n",
    "import numpy as np\n",
    "from sklearn.linear_model import LogisticRegression\n",
    "from sklearn.preprocessing import PolynomialFeatures\n",
    "\n",
    "# Data points\n",
    "x1 = (np.array([2, 5, 6, 8, 14, 18, 23, 43, 56, 67, 83, 91, 113, 125, 140, 167])-125)/50\n",
    "\n",
    "y1 = (np.array([0, 0, 0, 10, 30, 10, 20, 40, 10, 20, 30, 40, 50, 20, 10, 10])-50)/20\n",
    "\n",
    "\n",
    "x2 = (np.array([99, 129, 134, 145, 156, 180, 190, 195, 199, 203, 207, 213, 219, 223, 240, 245, 249, 253])-125)/50\n",
    "\n",
    "y2 = (np.array([30, 50, 60, 80, 90, 100, 100, 70, 60, 40, 50, 70, 80, 100, 100, 70, 80, 30])-50)/20\n",
    "\n",
    "\n",
    "# Combine x and y for each class to create feature arrays\n",
    "features_0 = np.column_stack((x1, y1))\n",
    "\n",
    "\n",
    "features_1 = np.column_stack((x2, y2))\n",
    "\n",
    "\n",
    "# Combine features for all samples and create labels\n",
    "X_train = np.vstack((features_0, features_1))\n",
    "print()\n",
    "y_train = np.concatenate((np.zeros(len(x1)), np.ones(len(x2))))\n",
    "\n",
    "# Create polynomial features\n",
    "degree = 15  # Degree of polynomial features\n",
    "poly = PolynomialFeatures(degree)\n",
    "X_poly = poly.fit_transform(X_train)\n",
    "\n",
    "# Initialize and fit the model with polynomial features\n",
    "model = LogisticRegression(max_iter=1000)\n",
    "model.fit(X_poly, y_train)\n",
    "\n",
    "# Prepare plot\n",
    "fig, ax = plt.subplots()\n",
    "\n",
    "# Plot the data points\n",
    "ax.scatter(x1, y1, marker='s', label='Class 0')\n",
    "ax.scatter(x2, y2, marker='o', label='Class 1')\n",
    "\n",
    "# Create a mesh to plot in\n",
    "x_min, x_max = X_train[:, 0].min() - 1, X_train[:, 0].max() + 1\n",
    "y_min, y_max = X_train[:, 1].min() - 1, X_train[:, 1].max() + 1\n",
    "xx, yy = np.meshgrid(np.arange(x_min, x_max, 0.02),\n",
    "                     np.arange(y_min, y_max, 0.02))\n",
    "\n",
    "# Plot the decision boundary\n",
    "Z = model.predict(poly.transform(np.c_[xx.ravel(), yy.ravel()]))\n",
    "Z = Z.reshape(xx.shape)\n",
    "ax.contour(xx, yy, Z, colors='r', levels=[0.5], linestyles='dashed', linewidths=2)\n",
    "\n",
    "# Labeling the axes and the legend\n",
    "plt.xlabel('Feature 1')\n",
    "plt.ylabel('Feature 2')\n",
    "plt.legend()\n",
    "\n",
    "# Save and show the plot\n",
    "plt.savefig('./2DScatter_with_polynomial_decision_boundary_line.png')\n",
    "plt.show()\n"
   ]
  },
  {
   "cell_type": "code",
   "execution_count": null,
   "id": "01cdc492",
   "metadata": {},
   "outputs": [],
   "source": []
  }
 ],
 "metadata": {
  "kernelspec": {
   "display_name": "Python 3 (ipykernel)",
   "language": "python",
   "name": "python3"
  },
  "language_info": {
   "codemirror_mode": {
    "name": "ipython",
    "version": 3
   },
   "file_extension": ".py",
   "mimetype": "text/x-python",
   "name": "python",
   "nbconvert_exporter": "python",
   "pygments_lexer": "ipython3",
   "version": "3.10.9"
  }
 },
 "nbformat": 4,
 "nbformat_minor": 5
}
